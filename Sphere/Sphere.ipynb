{
 "cells": [
  {
   "cell_type": "code",
   "execution_count": 1309,
   "metadata": {},
   "outputs": [],
   "source": [
    "from PIL import Image \n",
    "import math"
   ]
  },
  {
   "cell_type": "code",
   "execution_count": 1380,
   "metadata": {},
   "outputs": [],
   "source": [
    "center = (0, 0, 40)\n",
    "radius = 8\n",
    "color = (0, 255, 0) \n",
    "specular = 700\n",
    "intensity = 1\n",
    "\n",
    "d = 100\n",
    "Vw = 100\n",
    "Vh = 100"
   ]
  },
  {
   "cell_type": "code",
   "execution_count": 1381,
   "metadata": {},
   "outputs": [],
   "source": [
    "def CanvasToViewport(x, y): \n",
    "    return (x*Vw/Cw, y*Vh/Ch, d)"
   ]
  },
  {
   "cell_type": "code",
   "execution_count": 1382,
   "metadata": {},
   "outputs": [],
   "source": [
    "def length(V):\n",
    "    return math.sqrt(V[0]*V[0] + V[1]*V[1] + V[2]*V[2])"
   ]
  },
  {
   "cell_type": "code",
   "execution_count": 1383,
   "metadata": {},
   "outputs": [],
   "source": [
    "def dot(V1, V2):\n",
    "    return V1[0]*V2[0] + V1[1]*V2[1] + V1[2]*V2[2]"
   ]
  },
  {
   "cell_type": "code",
   "execution_count": 1384,
   "metadata": {},
   "outputs": [],
   "source": [
    "def ComputeLighting(P, N, V, s):\n",
    "    i = 0.0\n",
    "    L = (120, -100, 30)\n",
    "    \n",
    "    n_dot_l = dot(N, L)\n",
    "    if (n_dot_l > 0):\n",
    "        i += intensity * n_dot_l / (length(N)*length(L)) \n",
    "        \n",
    "    if (s != -1): \n",
    "        R = (2*N[0]*n_dot_l - L[0], 2*N[1]*n_dot_l - L[1], 2*N[2]*n_dot_l - L[2])\n",
    "        r_dot_v = dot(R, V)\n",
    "        \n",
    "        if (r_dot_v > 0):\n",
    "            i += intensity * pow(r_dot_v/(length(R)*length(V)), s)    \n",
    "    return i"
   ]
  },
  {
   "cell_type": "code",
   "execution_count": 1385,
   "metadata": {},
   "outputs": [],
   "source": [
    "def IntersectRaySphere(O, D):\n",
    "    C = center\n",
    "    r = radius\n",
    "    \n",
    "    OC = (O[0] - C[0], O[1] - C[1], O[2] - C[2])\n",
    "\n",
    "    k1 = dot(D, D)\n",
    "    k2 = 2 * dot(OC, D)\n",
    "    k3 = dot(OC, OC) - r*r\n",
    "\n",
    "    discriminant = k2*k2 - 4*k1*k3\n",
    "    if (discriminant < 0):\n",
    "        return (math.inf, math.inf) \n",
    "\n",
    "    t1 = (-k2 + math.sqrt(discriminant)) / (2*k1)\n",
    "    t2 = (-k2 - math.sqrt(discriminant)) / (2*k1)\n",
    "    return (t1, t2)"
   ]
  },
  {
   "cell_type": "code",
   "execution_count": 1386,
   "metadata": {},
   "outputs": [],
   "source": [
    "def TraceRay(O, D, t_min, t_max): \n",
    "    closest_t = 1000000\n",
    "    \n",
    "    t1 = IntersectRaySphere(O, D)[0]\n",
    "    if(t1 == math.inf):\n",
    "        return (50, 50, 50)\n",
    "    t2 = IntersectRaySphere(O, D)[1]\n",
    "    \n",
    "    if (t1 in [t_min, t_max] and t1 < closest_t):\n",
    "        closest_t = t1\n",
    "    if (t2 in [t_min, t_max] and t2 < closest_t):\n",
    "        closest_t = t2\n",
    "        \n",
    "    P = (O[0] + closest_t*D[0], O[1] + closest_t*D[1], O[2] + closest_t*D[2])   \n",
    "    X = (P[0] - center[0], P[1] - center[1], P[2] - center[2] )\n",
    "    lenN = length(X)\n",
    "    N = (X[0] / lenN, X[1] / lenN, X[2] / lenN) \n",
    "    T = (-D[0], -D[1], -D[2])\n",
    "    \n",
    "    return (255*ComputeLighting(P, N, T, 700),0 , 0)"
   ]
  },
  {
   "cell_type": "code",
   "execution_count": 1387,
   "metadata": {},
   "outputs": [],
   "source": [
    "image = Image.open(r'Scene1.png')  \n",
    "  \n",
    "Cw, Ch = image.size \n",
    "O = (0, 0, 0)  \n",
    "    \n",
    "for x in range(-400, 400):\n",
    "    x1 = x + 400\n",
    "    for y in range(-400, 400):\n",
    "        y1 = y + 400\n",
    "        color = TraceRay(O, CanvasToViewport(x, y), 1, math.inf)\n",
    "        image.putpixel((x1, y1), tuple(int(c) for c in color) )  \n",
    "image.show() "
   ]
  },
  {
   "cell_type": "code",
   "execution_count": null,
   "metadata": {},
   "outputs": [],
   "source": []
  }
 ],
 "metadata": {
  "kernelspec": {
   "display_name": "Python 3",
   "language": "python",
   "name": "python3"
  },
  "language_info": {
   "codemirror_mode": {
    "name": "ipython",
    "version": 3
   },
   "file_extension": ".py",
   "mimetype": "text/x-python",
   "name": "python",
   "nbconvert_exporter": "python",
   "pygments_lexer": "ipython3",
   "version": "3.7.6"
  }
 },
 "nbformat": 4,
 "nbformat_minor": 4
}

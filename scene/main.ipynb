{
 "cells": [
  {
   "cell_type": "code",
   "execution_count": 1,
   "metadata": {},
   "outputs": [],
   "source": [
    "from PIL import Image \n",
    "import math"
   ]
  },
  {
   "cell_type": "code",
   "execution_count": 2,
   "metadata": {},
   "outputs": [],
   "source": [
    "d = 1\n",
    "Vw = 1\n",
    "Vh = 1"
   ]
  },
  {
   "cell_type": "code",
   "execution_count": 3,
   "metadata": {},
   "outputs": [],
   "source": [
    "center = [ (0, 31, 30), (1.5, 0, 2), (-1.5, 0, 2), (0, 3, -5)]\n",
    "light_position = (0, 3, -5)\n",
    "clr = [ (242, 221, 222), (0, 120, 250), (20, 210, 255), (0, 0, 0)]\n",
    "radius = [ 40, 1, 1, 0.01]\n",
    "specular = [ 40, 40, 40, 0]\n",
    "intensity = (0.1, 0.9)\n",
    "reflective = (0.2, 0.6, 0.4, 0)\n",
    "t_max = 1"
   ]
  },
  {
   "cell_type": "code",
   "execution_count": 4,
   "metadata": {},
   "outputs": [],
   "source": [
    "def CanvasToViewport(x, y): \n",
    "    return (x*Vw/Cw, y*Vh/Ch, d)"
   ]
  },
  {
   "cell_type": "code",
   "execution_count": 5,
   "metadata": {},
   "outputs": [],
   "source": [
    "def length(V):\n",
    "    return math.sqrt(V[0]*V[0] + V[1]*V[1] + V[2]*V[2])"
   ]
  },
  {
   "cell_type": "code",
   "execution_count": 6,
   "metadata": {},
   "outputs": [],
   "source": [
    "def dot(V1, V2):\n",
    "    return V1[0]*V2[0] + V1[1]*V2[1] + V1[2]*V2[2]"
   ]
  },
  {
   "cell_type": "code",
   "execution_count": 7,
   "metadata": {},
   "outputs": [],
   "source": [
    "def neg(V):\n",
    "    return (-V[0], -V[1], -V[2])"
   ]
  },
  {
   "cell_type": "code",
   "execution_count": 8,
   "metadata": {},
   "outputs": [],
   "source": [
    "def sumv(V1, V2):\n",
    "    return (V1[0]+V2[0], V1[1]+V2[1], V1[2]+V2[2])"
   ]
  },
  {
   "cell_type": "code",
   "execution_count": 9,
   "metadata": {},
   "outputs": [],
   "source": [
    "def ReflectRay(R, N):\n",
    "    X = (2*N[0]*dot(N,R)-R[0], 2*N[1]*dot(N,R)-R[1], 2*N[2]*dot(N,R)-R[2])\n",
    "    return X"
   ]
  },
  {
   "cell_type": "code",
   "execution_count": 10,
   "metadata": {},
   "outputs": [],
   "source": [
    "def ComputeLighting(P, N, V, s):\n",
    "    i = 0.0\n",
    "    for num in range(0, 2):\n",
    "        if (num == 0):\n",
    "            i += intensity[0]\n",
    "        else:    \n",
    "            L = (light_position[0] - P[0], \n",
    "                 light_position[1] - P[1], \n",
    "                 light_position[2] - P[2])\n",
    "            \n",
    "            a1 = 0\n",
    "            a2 = 1\n",
    "            \n",
    "            v = []\n",
    "            \n",
    "            kol = 4\n",
    "            \n",
    "            for vec in range(0, 1):\n",
    "                tmp = (light_position[0] - P[0]+a1, light_position[1] - P[1]+a2, light_position[2] - P[2])\n",
    "                v.append(tmp)\n",
    "                a1 += 4/kol\n",
    "                a2 -= 4/kol\n",
    "            for vec in range(1, 2):\n",
    "                tmp = (light_position[0] - P[0]+a1, light_position[1] - P[1]+a2, light_position[2] - P[2])\n",
    "                v.append(tmp)\n",
    "                a1 -= 4/kol\n",
    "                a2 -= 4/kol\n",
    "            for vec in range(2, 3):\n",
    "                tmp = (light_position[0] - P[0]+a1, light_position[1] - P[1]+a2, light_position[2] - P[2])\n",
    "                v.append(tmp)\n",
    "                a1 -= 4/kol\n",
    "                a2 += 4/kol\n",
    "            for vec in range(3, 4):\n",
    "                tmp = (light_position[0] - P[0]+a1, light_position[1] - P[1]+a2, light_position[2] - P[2])\n",
    "                v.append(tmp)\n",
    "                a1 += 4/kol\n",
    "                a2 += 4/kol    \n",
    "                \n",
    "            for k in range(0, kol):\n",
    "                shadow_sphere = ClosestIntersection(P, v[k], 0.001, t_max)[0]\n",
    "                shadow_t = ClosestIntersection(P, v[k], 0.001, t_max)[1]\n",
    "            \n",
    "                if (shadow_sphere != -1):\n",
    "                    continue\n",
    "                intens = intensity[1] / 4\n",
    "                n_dot_l = dot(N, L)\n",
    "        \n",
    "                if (n_dot_l > 0):\n",
    "                    i += intens * n_dot_l / (length(N)*length(L)) \n",
    "    \n",
    "                if (s != -1): \n",
    "                    R = (2*N[0]*n_dot_l - L[0], 2*N[1]*n_dot_l - L[1], 2*N[2]*n_dot_l - L[2])\n",
    "                    r_dot_v = dot(R, V)\n",
    "                    if (r_dot_v > 0):\n",
    "                        i += intens*pow(r_dot_v/(length(R)*length(V)), s)\n",
    "    return i"
   ]
  },
  {
   "cell_type": "code",
   "execution_count": 11,
   "metadata": {},
   "outputs": [],
   "source": [
    "def IntersectRaySphere(O, D, i):\n",
    "    C = center[i]\n",
    "    r = radius[i]\n",
    "    \n",
    "    OC = (O[0] - C[0], O[1] - C[1], O[2] - C[2])\n",
    "\n",
    "    k1 = dot(D, D)\n",
    "    k2 = 2 * dot(OC, D)\n",
    "    k3 = dot(OC, OC) - r*r\n",
    "\n",
    "    discriminant = k2*k2 - 4*k1*k3\n",
    "    if (discriminant < 0):\n",
    "        return (math.inf, math.inf) \n",
    "\n",
    "    t1 = (-k2 + math.sqrt(discriminant)) / (2*k1)\n",
    "    t2 = (-k2 - math.sqrt(discriminant)) / (2*k1)\n",
    "    return (t1, t2)"
   ]
  },
  {
   "cell_type": "code",
   "execution_count": 12,
   "metadata": {},
   "outputs": [],
   "source": [
    "def ClosestIntersection(O, D, t_min, t_max):\n",
    "    closest_t = 1000000\n",
    "    closest_sphere = -1\n",
    "    for k in range(0, 4):\n",
    "        t1 = IntersectRaySphere(O, D, k)[0]\n",
    "        t2 = IntersectRaySphere(O, D, k)[1]\n",
    "    \n",
    "        if (t1 > t_min and t1 < t_max and t1 < closest_t):\n",
    "            closest_t = t1\n",
    "            closest_sphere = k\n",
    "        \n",
    "        if (t2 > t_min and t2 < t_max and t2 < closest_t):\n",
    "            closest_t = t2\n",
    "            closest_sphere = k \n",
    "            \n",
    "    return (closest_sphere, closest_t)"
   ]
  },
  {
   "cell_type": "code",
   "execution_count": 13,
   "metadata": {},
   "outputs": [],
   "source": [
    "def TraceRay(O, D, t_min, t_max, depth): \n",
    "    \n",
    "    closest_sphere = ClosestIntersection(O, D, t_min, t_max)[0]\n",
    "    closest_t = ClosestIntersection(O, D, t_min, t_max)[1]\n",
    "    \n",
    "    if (closest_sphere == -1):\n",
    "        return (50, 50, 50) \n",
    "    \n",
    "    P = (O[0] + closest_t*D[0], O[1] + closest_t*D[1], O[2] + closest_t*D[2])   \n",
    "    X = (P[0] - center[closest_sphere][0], \n",
    "         P[1] - center[closest_sphere][1], \n",
    "         P[2] - center[closest_sphere][2] )\n",
    "    lenN = length(X)\n",
    "    N = (X[0] / lenN, X[1] / lenN, X[2] / lenN) \n",
    "    \n",
    "    X = (-D[0], -D[1], -D[2])\n",
    "    \n",
    "    local_color = (clr[closest_sphere][0]*ComputeLighting(P, N, X, specular[closest_sphere]), \n",
    "                   clr[closest_sphere][1]*ComputeLighting(P, N, X, specular[closest_sphere]), \n",
    "                   clr[closest_sphere][2]*ComputeLighting(P, N, X, specular[closest_sphere]) )\n",
    "    r = reflective[closest_sphere]\n",
    "    if (depth <= 0 or r <= 0):\n",
    "        return local_color\n",
    "    \n",
    "    R = ReflectRay(X, N)\n",
    "    reflected_color = TraceRay(P, R, 0.001, math.inf, depth - 1)\n",
    "\n",
    "    res = (local_color[0]*(1 - r) + reflected_color[0]*r,\n",
    "           local_color[1]*(1 - r) + reflected_color[1]*r,\n",
    "           local_color[2]*(1 - r) + reflected_color[2]*r)\n",
    "    return res"
   ]
  },
  {
   "cell_type": "code",
   "execution_count": 14,
   "metadata": {},
   "outputs": [
    {
     "ename": "KeyboardInterrupt",
     "evalue": "",
     "output_type": "error",
     "traceback": [
      "\u001b[0;31m---------------------------------------------------------------------------\u001b[0m",
      "\u001b[0;31mKeyboardInterrupt\u001b[0m                         Traceback (most recent call last)",
      "\u001b[0;32m<ipython-input-14-7e38eccd6b65>\u001b[0m in \u001b[0;36m<module>\u001b[0;34m\u001b[0m\n\u001b[1;32m      8\u001b[0m     \u001b[0;32mfor\u001b[0m \u001b[0my\u001b[0m \u001b[0;32min\u001b[0m \u001b[0mrange\u001b[0m\u001b[0;34m(\u001b[0m\u001b[0;34m-\u001b[0m\u001b[0;36m300\u001b[0m\u001b[0;34m,\u001b[0m \u001b[0;36m300\u001b[0m\u001b[0;34m)\u001b[0m\u001b[0;34m:\u001b[0m\u001b[0;34m\u001b[0m\u001b[0;34m\u001b[0m\u001b[0m\n\u001b[1;32m      9\u001b[0m         \u001b[0my1\u001b[0m \u001b[0;34m=\u001b[0m \u001b[0my\u001b[0m \u001b[0;34m+\u001b[0m \u001b[0;36m300\u001b[0m\u001b[0;34m\u001b[0m\u001b[0;34m\u001b[0m\u001b[0m\n\u001b[0;32m---> 10\u001b[0;31m         \u001b[0mcolor\u001b[0m \u001b[0;34m=\u001b[0m \u001b[0mTraceRay\u001b[0m\u001b[0;34m(\u001b[0m\u001b[0mO\u001b[0m\u001b[0;34m,\u001b[0m \u001b[0mCanvasToViewport\u001b[0m\u001b[0;34m(\u001b[0m\u001b[0mx\u001b[0m\u001b[0;34m,\u001b[0m \u001b[0my\u001b[0m\u001b[0;34m)\u001b[0m\u001b[0;34m,\u001b[0m \u001b[0;36m0\u001b[0m\u001b[0;34m,\u001b[0m \u001b[0mmath\u001b[0m\u001b[0;34m.\u001b[0m\u001b[0minf\u001b[0m\u001b[0;34m,\u001b[0m \u001b[0;36m1\u001b[0m\u001b[0;34m)\u001b[0m\u001b[0;34m\u001b[0m\u001b[0;34m\u001b[0m\u001b[0m\n\u001b[0m\u001b[1;32m     11\u001b[0m         \u001b[0mimage\u001b[0m\u001b[0;34m.\u001b[0m\u001b[0mputpixel\u001b[0m\u001b[0;34m(\u001b[0m\u001b[0;34m(\u001b[0m\u001b[0mx1\u001b[0m\u001b[0;34m,\u001b[0m \u001b[0my1\u001b[0m\u001b[0;34m)\u001b[0m\u001b[0;34m,\u001b[0m \u001b[0mtuple\u001b[0m\u001b[0;34m(\u001b[0m\u001b[0mint\u001b[0m\u001b[0;34m(\u001b[0m\u001b[0mc\u001b[0m\u001b[0;34m)\u001b[0m \u001b[0;32mfor\u001b[0m \u001b[0mc\u001b[0m \u001b[0;32min\u001b[0m \u001b[0mcolor\u001b[0m\u001b[0;34m)\u001b[0m \u001b[0;34m)\u001b[0m\u001b[0;34m\u001b[0m\u001b[0;34m\u001b[0m\u001b[0m\n\u001b[1;32m     12\u001b[0m \u001b[0mimage\u001b[0m\u001b[0;34m.\u001b[0m\u001b[0mshow\u001b[0m\u001b[0;34m(\u001b[0m\u001b[0;34m)\u001b[0m\u001b[0;34m\u001b[0m\u001b[0;34m\u001b[0m\u001b[0m\n",
      "\u001b[0;32m<ipython-input-13-f52b2010eae0>\u001b[0m in \u001b[0;36mTraceRay\u001b[0;34m(O, D, t_min, t_max, depth)\u001b[0m\n\u001b[1;32m     18\u001b[0m     local_color = (clr[closest_sphere][0]*ComputeLighting(P, N, X, specular[closest_sphere]), \n\u001b[1;32m     19\u001b[0m                    \u001b[0mclr\u001b[0m\u001b[0;34m[\u001b[0m\u001b[0mclosest_sphere\u001b[0m\u001b[0;34m]\u001b[0m\u001b[0;34m[\u001b[0m\u001b[0;36m1\u001b[0m\u001b[0;34m]\u001b[0m\u001b[0;34m*\u001b[0m\u001b[0mComputeLighting\u001b[0m\u001b[0;34m(\u001b[0m\u001b[0mP\u001b[0m\u001b[0;34m,\u001b[0m \u001b[0mN\u001b[0m\u001b[0;34m,\u001b[0m \u001b[0mX\u001b[0m\u001b[0;34m,\u001b[0m \u001b[0mspecular\u001b[0m\u001b[0;34m[\u001b[0m\u001b[0mclosest_sphere\u001b[0m\u001b[0;34m]\u001b[0m\u001b[0;34m)\u001b[0m\u001b[0;34m,\u001b[0m\u001b[0;34m\u001b[0m\u001b[0;34m\u001b[0m\u001b[0m\n\u001b[0;32m---> 20\u001b[0;31m                    clr[closest_sphere][2]*ComputeLighting(P, N, X, specular[closest_sphere]) )\n\u001b[0m\u001b[1;32m     21\u001b[0m     \u001b[0mr\u001b[0m \u001b[0;34m=\u001b[0m \u001b[0mreflective\u001b[0m\u001b[0;34m[\u001b[0m\u001b[0mclosest_sphere\u001b[0m\u001b[0;34m]\u001b[0m\u001b[0;34m\u001b[0m\u001b[0;34m\u001b[0m\u001b[0m\n\u001b[1;32m     22\u001b[0m     \u001b[0;32mif\u001b[0m \u001b[0;34m(\u001b[0m\u001b[0mdepth\u001b[0m \u001b[0;34m<=\u001b[0m \u001b[0;36m0\u001b[0m \u001b[0;32mor\u001b[0m \u001b[0mr\u001b[0m \u001b[0;34m<=\u001b[0m \u001b[0;36m0\u001b[0m\u001b[0;34m)\u001b[0m\u001b[0;34m:\u001b[0m\u001b[0;34m\u001b[0m\u001b[0;34m\u001b[0m\u001b[0m\n",
      "\u001b[0;32m<ipython-input-10-8941fb14c8b5>\u001b[0m in \u001b[0;36mComputeLighting\u001b[0;34m(P, N, V, s)\u001b[0m\n\u001b[1;32m     38\u001b[0m \u001b[0;34m\u001b[0m\u001b[0m\n\u001b[1;32m     39\u001b[0m             \u001b[0;32mfor\u001b[0m \u001b[0mk\u001b[0m \u001b[0;32min\u001b[0m \u001b[0mrange\u001b[0m\u001b[0;34m(\u001b[0m\u001b[0;36m0\u001b[0m\u001b[0;34m,\u001b[0m \u001b[0mkol\u001b[0m\u001b[0;34m)\u001b[0m\u001b[0;34m:\u001b[0m\u001b[0;34m\u001b[0m\u001b[0;34m\u001b[0m\u001b[0m\n\u001b[0;32m---> 40\u001b[0;31m                 \u001b[0mshadow_sphere\u001b[0m \u001b[0;34m=\u001b[0m \u001b[0mClosestIntersection\u001b[0m\u001b[0;34m(\u001b[0m\u001b[0mP\u001b[0m\u001b[0;34m,\u001b[0m \u001b[0mv\u001b[0m\u001b[0;34m[\u001b[0m\u001b[0mk\u001b[0m\u001b[0;34m]\u001b[0m\u001b[0;34m,\u001b[0m \u001b[0;36m0.001\u001b[0m\u001b[0;34m,\u001b[0m \u001b[0mt_max\u001b[0m\u001b[0;34m)\u001b[0m\u001b[0;34m[\u001b[0m\u001b[0;36m0\u001b[0m\u001b[0;34m]\u001b[0m\u001b[0;34m\u001b[0m\u001b[0;34m\u001b[0m\u001b[0m\n\u001b[0m\u001b[1;32m     41\u001b[0m                 \u001b[0mshadow_t\u001b[0m \u001b[0;34m=\u001b[0m \u001b[0mClosestIntersection\u001b[0m\u001b[0;34m(\u001b[0m\u001b[0mP\u001b[0m\u001b[0;34m,\u001b[0m \u001b[0mv\u001b[0m\u001b[0;34m[\u001b[0m\u001b[0mk\u001b[0m\u001b[0;34m]\u001b[0m\u001b[0;34m,\u001b[0m \u001b[0;36m0.001\u001b[0m\u001b[0;34m,\u001b[0m \u001b[0mt_max\u001b[0m\u001b[0;34m)\u001b[0m\u001b[0;34m[\u001b[0m\u001b[0;36m1\u001b[0m\u001b[0;34m]\u001b[0m\u001b[0;34m\u001b[0m\u001b[0;34m\u001b[0m\u001b[0m\n\u001b[1;32m     42\u001b[0m \u001b[0;34m\u001b[0m\u001b[0m\n",
      "\u001b[0;32m<ipython-input-12-5c8814ad3da0>\u001b[0m in \u001b[0;36mClosestIntersection\u001b[0;34m(O, D, t_min, t_max)\u001b[0m\n\u001b[1;32m      4\u001b[0m     \u001b[0;32mfor\u001b[0m \u001b[0mk\u001b[0m \u001b[0;32min\u001b[0m \u001b[0mrange\u001b[0m\u001b[0;34m(\u001b[0m\u001b[0;36m0\u001b[0m\u001b[0;34m,\u001b[0m \u001b[0;36m4\u001b[0m\u001b[0;34m)\u001b[0m\u001b[0;34m:\u001b[0m\u001b[0;34m\u001b[0m\u001b[0;34m\u001b[0m\u001b[0m\n\u001b[1;32m      5\u001b[0m         \u001b[0mt1\u001b[0m \u001b[0;34m=\u001b[0m \u001b[0mIntersectRaySphere\u001b[0m\u001b[0;34m(\u001b[0m\u001b[0mO\u001b[0m\u001b[0;34m,\u001b[0m \u001b[0mD\u001b[0m\u001b[0;34m,\u001b[0m \u001b[0mk\u001b[0m\u001b[0;34m)\u001b[0m\u001b[0;34m[\u001b[0m\u001b[0;36m0\u001b[0m\u001b[0;34m]\u001b[0m\u001b[0;34m\u001b[0m\u001b[0;34m\u001b[0m\u001b[0m\n\u001b[0;32m----> 6\u001b[0;31m         \u001b[0mt2\u001b[0m \u001b[0;34m=\u001b[0m \u001b[0mIntersectRaySphere\u001b[0m\u001b[0;34m(\u001b[0m\u001b[0mO\u001b[0m\u001b[0;34m,\u001b[0m \u001b[0mD\u001b[0m\u001b[0;34m,\u001b[0m \u001b[0mk\u001b[0m\u001b[0;34m)\u001b[0m\u001b[0;34m[\u001b[0m\u001b[0;36m1\u001b[0m\u001b[0;34m]\u001b[0m\u001b[0;34m\u001b[0m\u001b[0;34m\u001b[0m\u001b[0m\n\u001b[0m\u001b[1;32m      7\u001b[0m \u001b[0;34m\u001b[0m\u001b[0m\n\u001b[1;32m      8\u001b[0m         \u001b[0;32mif\u001b[0m \u001b[0;34m(\u001b[0m\u001b[0mt1\u001b[0m \u001b[0;34m>\u001b[0m \u001b[0mt_min\u001b[0m \u001b[0;32mand\u001b[0m \u001b[0mt1\u001b[0m \u001b[0;34m<\u001b[0m \u001b[0mt_max\u001b[0m \u001b[0;32mand\u001b[0m \u001b[0mt1\u001b[0m \u001b[0;34m<\u001b[0m \u001b[0mclosest_t\u001b[0m\u001b[0;34m)\u001b[0m\u001b[0;34m:\u001b[0m\u001b[0;34m\u001b[0m\u001b[0;34m\u001b[0m\u001b[0m\n",
      "\u001b[0;32m<ipython-input-11-4b35f0562686>\u001b[0m in \u001b[0;36mIntersectRaySphere\u001b[0;34m(O, D, i)\u001b[0m\n\u001b[1;32m      5\u001b[0m     \u001b[0mOC\u001b[0m \u001b[0;34m=\u001b[0m \u001b[0;34m(\u001b[0m\u001b[0mO\u001b[0m\u001b[0;34m[\u001b[0m\u001b[0;36m0\u001b[0m\u001b[0;34m]\u001b[0m \u001b[0;34m-\u001b[0m \u001b[0mC\u001b[0m\u001b[0;34m[\u001b[0m\u001b[0;36m0\u001b[0m\u001b[0;34m]\u001b[0m\u001b[0;34m,\u001b[0m \u001b[0mO\u001b[0m\u001b[0;34m[\u001b[0m\u001b[0;36m1\u001b[0m\u001b[0;34m]\u001b[0m \u001b[0;34m-\u001b[0m \u001b[0mC\u001b[0m\u001b[0;34m[\u001b[0m\u001b[0;36m1\u001b[0m\u001b[0;34m]\u001b[0m\u001b[0;34m,\u001b[0m \u001b[0mO\u001b[0m\u001b[0;34m[\u001b[0m\u001b[0;36m2\u001b[0m\u001b[0;34m]\u001b[0m \u001b[0;34m-\u001b[0m \u001b[0mC\u001b[0m\u001b[0;34m[\u001b[0m\u001b[0;36m2\u001b[0m\u001b[0;34m]\u001b[0m\u001b[0;34m)\u001b[0m\u001b[0;34m\u001b[0m\u001b[0;34m\u001b[0m\u001b[0m\n\u001b[1;32m      6\u001b[0m \u001b[0;34m\u001b[0m\u001b[0m\n\u001b[0;32m----> 7\u001b[0;31m     \u001b[0mk1\u001b[0m \u001b[0;34m=\u001b[0m \u001b[0mdot\u001b[0m\u001b[0;34m(\u001b[0m\u001b[0mD\u001b[0m\u001b[0;34m,\u001b[0m \u001b[0mD\u001b[0m\u001b[0;34m)\u001b[0m\u001b[0;34m\u001b[0m\u001b[0;34m\u001b[0m\u001b[0m\n\u001b[0m\u001b[1;32m      8\u001b[0m     \u001b[0mk2\u001b[0m \u001b[0;34m=\u001b[0m \u001b[0;36m2\u001b[0m \u001b[0;34m*\u001b[0m \u001b[0mdot\u001b[0m\u001b[0;34m(\u001b[0m\u001b[0mOC\u001b[0m\u001b[0;34m,\u001b[0m \u001b[0mD\u001b[0m\u001b[0;34m)\u001b[0m\u001b[0;34m\u001b[0m\u001b[0;34m\u001b[0m\u001b[0m\n\u001b[1;32m      9\u001b[0m     \u001b[0mk3\u001b[0m \u001b[0;34m=\u001b[0m \u001b[0mdot\u001b[0m\u001b[0;34m(\u001b[0m\u001b[0mOC\u001b[0m\u001b[0;34m,\u001b[0m \u001b[0mOC\u001b[0m\u001b[0;34m)\u001b[0m \u001b[0;34m-\u001b[0m \u001b[0mr\u001b[0m\u001b[0;34m*\u001b[0m\u001b[0mr\u001b[0m\u001b[0;34m\u001b[0m\u001b[0;34m\u001b[0m\u001b[0m\n",
      "\u001b[0;32m<ipython-input-6-d742e43c7e24>\u001b[0m in \u001b[0;36mdot\u001b[0;34m(V1, V2)\u001b[0m\n\u001b[0;32m----> 1\u001b[0;31m \u001b[0;32mdef\u001b[0m \u001b[0mdot\u001b[0m\u001b[0;34m(\u001b[0m\u001b[0mV1\u001b[0m\u001b[0;34m,\u001b[0m \u001b[0mV2\u001b[0m\u001b[0;34m)\u001b[0m\u001b[0;34m:\u001b[0m\u001b[0;34m\u001b[0m\u001b[0;34m\u001b[0m\u001b[0m\n\u001b[0m\u001b[1;32m      2\u001b[0m     \u001b[0;32mreturn\u001b[0m \u001b[0mV1\u001b[0m\u001b[0;34m[\u001b[0m\u001b[0;36m0\u001b[0m\u001b[0;34m]\u001b[0m\u001b[0;34m*\u001b[0m\u001b[0mV2\u001b[0m\u001b[0;34m[\u001b[0m\u001b[0;36m0\u001b[0m\u001b[0;34m]\u001b[0m \u001b[0;34m+\u001b[0m \u001b[0mV1\u001b[0m\u001b[0;34m[\u001b[0m\u001b[0;36m1\u001b[0m\u001b[0;34m]\u001b[0m\u001b[0;34m*\u001b[0m\u001b[0mV2\u001b[0m\u001b[0;34m[\u001b[0m\u001b[0;36m1\u001b[0m\u001b[0;34m]\u001b[0m \u001b[0;34m+\u001b[0m \u001b[0mV1\u001b[0m\u001b[0;34m[\u001b[0m\u001b[0;36m2\u001b[0m\u001b[0;34m]\u001b[0m\u001b[0;34m*\u001b[0m\u001b[0mV2\u001b[0m\u001b[0;34m[\u001b[0m\u001b[0;36m2\u001b[0m\u001b[0;34m]\u001b[0m\u001b[0;34m\u001b[0m\u001b[0;34m\u001b[0m\u001b[0m\n",
      "\u001b[0;31mKeyboardInterrupt\u001b[0m: "
     ]
    }
   ],
   "source": [
    "image = Image.open(r'canvas.png')  \n",
    "  \n",
    "Cw, Ch = image.size \n",
    "O = (0, 0, -15)  \n",
    "    \n",
    "for x in range(-300, 300):\n",
    "    x1 = x + 300\n",
    "    for y in range(-300, 300):\n",
    "        y1 = y + 300\n",
    "        color = TraceRay(O, CanvasToViewport(x, y), 0, math.inf, 1)\n",
    "        image.putpixel((x1, y1), tuple(int(c) for c in color) )  \n",
    "image.show() "
   ]
  },
  {
   "cell_type": "code",
   "execution_count": null,
   "metadata": {},
   "outputs": [],
   "source": []
  },
  {
   "cell_type": "code",
   "execution_count": null,
   "metadata": {},
   "outputs": [],
   "source": []
  }
 ],
 "metadata": {
  "kernelspec": {
   "display_name": "Python 3",
   "language": "python",
   "name": "python3"
  },
  "language_info": {
   "codemirror_mode": {
    "name": "ipython",
    "version": 3
   },
   "file_extension": ".py",
   "mimetype": "text/x-python",
   "name": "python",
   "nbconvert_exporter": "python",
   "pygments_lexer": "ipython3",
   "version": "3.7.6"
  }
 },
 "nbformat": 4,
 "nbformat_minor": 4
}

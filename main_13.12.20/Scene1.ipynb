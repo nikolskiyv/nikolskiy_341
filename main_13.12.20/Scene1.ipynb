{
 "cells": [
  {
   "cell_type": "markdown",
   "metadata": {},
   "source": [
    "# Сцена 1"
   ]
  },
  {
   "cell_type": "markdown",
   "metadata": {},
   "source": [
    "![](Scene1.png)"
   ]
  },
  {
   "cell_type": "markdown",
   "metadata": {},
   "source": [
    "## эффекты: \n",
    "####    отбрасывание тени на другие объекты(1 балл)\n",
    "####    зеркальные грани(1 балл)\n",
    "####    объемный источник освещения(3 балла)\n",
    "####    нечеткие тени(3 балла)\n",
    "####    нечеткие отражения(4 балла)\n",
    "\n",
    "### итого за первую сцену 12 баллов"
   ]
  },
  {
   "cell_type": "code",
   "execution_count": null,
   "metadata": {},
   "outputs": [],
   "source": [
    "from PIL import Image \n",
    "import math\n",
    "from tqdm import tqdm"
   ]
  },
  {
   "cell_type": "markdown",
   "metadata": {},
   "source": [
    "##### Размер окна наблюдателя"
   ]
  },
  {
   "cell_type": "code",
   "execution_count": 126,
   "metadata": {},
   "outputs": [],
   "source": [
    "d = 10\n",
    "Vw = 10\n",
    "Vh = 10"
   ]
  },
  {
   "cell_type": "code",
   "execution_count": 127,
   "metadata": {},
   "outputs": [],
   "source": [
    "#sphere\n",
    "center = [ (-2, -2, 4), (-3, 3, 15), (10, 7, 30), (1.5, 1.5, 10), (2.2, 0, 5), (0, -1, 3)]\n",
    "clr = [ (0, 120, 250), (20, 210, 255), (120, 20, 120), (60, 60, 60), (0, 129, 100), (255,255,255)]\n",
    "radius = [2, 1, 10, 1, 1, 0.09]\n",
    "specular = [ 60, 40, 40, 80, 30, 20]\n",
    "reflective = (0.6, 0.4, 0.4, 0.1, 0.5, 0.4)\n",
    "t_max = 1\n",
    "\n",
    "#light\n",
    "intensity = (0.2, 0.8)\n",
    "light_position = (0, -1, 3)"
   ]
  },
  {
   "cell_type": "code",
   "execution_count": 128,
   "metadata": {},
   "outputs": [],
   "source": [
    "def CanvasToViewport(x, y): \n",
    "    return (x*Vw/Cw, -y*Vh/Ch, d)\n",
    "\n",
    "def length(V):\n",
    "    return math.sqrt(V[0]*V[0] + V[1]*V[1] + V[2]*V[2])\n",
    "\n",
    "def dot(V1, V2):\n",
    "    return V1[0]*V2[0] + V1[1]*V2[1] + V1[2]*V2[2]\n",
    "\n",
    " def neg(V):\n",
    "    return (-V[0], -V[1], -V[2])\n",
    "\n",
    "def sumv(V1, V2):\n",
    "    return (V1[0]+V2[0], V1[1]+V2[1], V1[2]+V2[2])\n",
    "\n",
    "def divv(V, a):\n",
    "    return (V[0]/a, V[1]/a, V[2]/a)\n",
    "\n",
    "def ReflectRay(R, N):\n",
    "    X = (2*N[0]*dot(N,R)-R[0], 2*N[1]*dot(N,R)-R[1], 2*N[2]*dot(N,R)-R[2])\n",
    "    return X"
   ]
  },
  {
   "cell_type": "code",
   "execution_count": 135,
   "metadata": {},
   "outputs": [],
   "source": [
    "def IntersectRaySphere(O, D, i):\n",
    "    C = center[i]\n",
    "    r = radius[i]\n",
    "    \n",
    "    OC = (O[0] - C[0], O[1] - C[1], O[2] - C[2])\n",
    "\n",
    "    k1 = dot(D, D)\n",
    "    k2 = 2 * dot(OC, D)\n",
    "    k3 = dot(OC, OC) - r*r\n",
    "\n",
    "    discriminant = k2*k2 - 4*k1*k3\n",
    "    if (discriminant < 0):\n",
    "        return (math.inf, math.inf) \n",
    "\n",
    "    t1 = (-k2 + math.sqrt(discriminant)) / (2*k1)\n",
    "    t2 = (-k2 - math.sqrt(discriminant)) / (2*k1)\n",
    "    return (t1, t2)"
   ]
  },
  {
   "cell_type": "code",
   "execution_count": 137,
   "metadata": {},
   "outputs": [],
   "source": [
    "def ComputeLighting(P, N, V, s):\n",
    "    i = 0.0\n",
    "    for num in range(0, 2):\n",
    "        if (num == 0):\n",
    "            i += intensity[0]\n",
    "        else:    \n",
    "            L = (light_position[0] - P[0], \n",
    "                 light_position[1] - P[1], \n",
    "                 light_position[2] - P[2])\n",
    "\n",
    "            v = []\n",
    "            \n",
    "            tmp = (light_position[0] - P[0]+0.1, light_position[1] - P[1], light_position[2] - P[2])\n",
    "            v.append(tmp)\n",
    "            tmp = (light_position[0] - P[0], light_position[1] - P[1]+0.1, light_position[2] - P[2])\n",
    "            v.append(tmp)\n",
    "            tmp = (light_position[0] - P[0], light_position[1] - P[1], light_position[2] - P[2]+0.1)\n",
    "            v.append(tmp)\n",
    "            tmp = (light_position[0] - P[0]-0.1, light_position[1] - P[1], light_position[2] - P[2])\n",
    "            v.append(tmp)\n",
    "            tmp = (light_position[0] - P[0], light_position[1] - P[1]-0.1, light_position[2] - P[2])\n",
    "            v.append(tmp)\n",
    "            tmp = (light_position[0] - P[0], light_position[1] - P[1], light_position[2] - P[2]-0.1)\n",
    "            v.append(tmp)    \n",
    "                \n",
    "            for k in range(0, 6):\n",
    "                shadow_sphere = ClosestIntersection(P, v[k], 0.001, t_max)[0]\n",
    "                shadow_t = ClosestIntersection(P, v[k], 0.001, t_max)[1]\n",
    "            \n",
    "                if (shadow_sphere != -1 and shadow_sphere != 5):\n",
    "                    continue\n",
    "                intens = intensity[1] / 4\n",
    "                n_dot_l = dot(N, L)\n",
    "        \n",
    "                if (n_dot_l > 0):\n",
    "                    i += intens * n_dot_l / (length(N)*length(L)) \n",
    "    \n",
    "                if (s != -1): \n",
    "                    R = (2*N[0]*n_dot_l - L[0], 2*N[1]*n_dot_l - L[1], 2*N[2]*n_dot_l - L[2])\n",
    "                    r_dot_v = dot(R, V)\n",
    "                    if (r_dot_v > 0):\n",
    "                        i += intens*pow(r_dot_v/(length(R)*length(V)), s)\n",
    "    return i"
   ]
  },
  {
   "cell_type": "code",
   "execution_count": 138,
   "metadata": {},
   "outputs": [],
   "source": [
    "def ClosestIntersection(O, D, t_min, t_max):\n",
    "    closest_t = 1000000\n",
    "    closest_sphere = -1\n",
    "    tmp = closest_t\n",
    "    for k in range(0, 6):\n",
    "        \n",
    "        t1 = IntersectRaySphere(O, D, k)[0]\n",
    "        t2 = IntersectRaySphere(O, D, k)[1]\n",
    "        \n",
    "        if (t1 > t_min and t1 < t_max and t1 < closest_t):\n",
    "            tmp = closest_sphere\n",
    "            closest_t = t1\n",
    "            closest_sphere = k\n",
    "        \n",
    "        if (t2 > t_min and t2 < t_max and t2 < closest_t):\n",
    "            tmp = closest_t\n",
    "            closest_t = t2\n",
    "            closest_sphere = k \n",
    "        \n",
    "    return (closest_sphere, closest_t, tmp)"
   ]
  },
  {
   "cell_type": "code",
   "execution_count": 139,
   "metadata": {},
   "outputs": [],
   "source": [
    "def TraceRay(O, D, t_min, t_max, depth): \n",
    "    \n",
    "    closest_sphere = ClosestIntersection(O, D, t_min, t_max)[0]\n",
    "    closest_t = ClosestIntersection(O, D, t_min, t_max)[1]\n",
    "    tmp = ClosestIntersection(O, D, t_min, t_max)[2]\n",
    "    \n",
    "    if (closest_sphere == -1):\n",
    "        return (50, 50, 50) \n",
    "       \n",
    "    if (closest_sphere == 5):\n",
    "        return(255, 255, 255)\n",
    "    \n",
    "    P = (O[0] + closest_t*D[0], O[1] + closest_t*D[1], O[2] + closest_t*D[2])      \n",
    "    X = (P[0] - center[closest_sphere][0], \n",
    "         P[1] - center[closest_sphere][1], \n",
    "         P[2] - center[closest_sphere][2] )\n",
    "    lenN = length(X)\n",
    "    N = (X[0] / lenN, X[1] / lenN, X[2] / lenN) \n",
    "    \n",
    "    X = (-D[0], -D[1], -D[2])\n",
    "        \n",
    "    local_color = (clr[closest_sphere][0]*ComputeLighting(P, N, X, specular[closest_sphere]), \n",
    "                   clr[closest_sphere][1]*ComputeLighting(P, N, X, specular[closest_sphere]), \n",
    "                   clr[closest_sphere][2]*ComputeLighting(P, N, X, specular[closest_sphere]) )\n",
    "    r = reflective[closest_sphere]\n",
    "    if (depth <= 0 or r <= 0):\n",
    "        return local_color\n",
    "    \n",
    "    R = ReflectRay(X, N)\n",
    "    ref = []\n",
    "    R1 = (R[0]+0.5, R[1], R[2])\n",
    "    ref.append(R1)\n",
    "    R2 = (R[0], R[1]+0.5, R[2])\n",
    "    ref.append(R2)\n",
    "    R3 = (R[0]-0.5, R[1], R[2])\n",
    "    ref.append(R3)\n",
    "    R4 = (R[0], R[1]-0.5, R[2])\n",
    "    ref.append(R4)\n",
    "    \n",
    "    c1 = TraceRay(P, ref[0], 0.001, math.inf, depth - 1)\n",
    "    c2 = TraceRay(P, ref[1], 0.001, math.inf, depth - 1)\n",
    "    c3 = TraceRay(P, ref[2], 0.001, math.inf, depth - 1)\n",
    "    c4 = TraceRay(P, ref[3], 0.001, math.inf, depth - 1)\n",
    "    s1 = sumv(c1,c2)\n",
    "    s2 = sumv(c2,c3)\n",
    "    s = sumv(s1,s2)\n",
    "    \n",
    "    reflected_color = divv(s, 4)    \n",
    "    #reflected_color = TraceRay(P, R, 0.001, math.inf, depth - 1)\n",
    "\n",
    "    \n",
    "    res = (local_color[0]*(1 - r) + reflected_color[0]*r,\n",
    "           local_color[1]*(1 - r) + reflected_color[1]*r,\n",
    "           local_color[2]*(1 - r) + reflected_color[2]*r)\n",
    "    return res"
   ]
  },
  {
   "cell_type": "code",
   "execution_count": 141,
   "metadata": {},
   "outputs": [
    {
     "name": "stderr",
     "output_type": "stream",
     "text": [
      "100%|██████████| 600/600 [46:25<00:00,  4.64s/it]    \n"
     ]
    }
   ],
   "source": [
    "image = Image.open(r'canvas.png')  \n",
    "  \n",
    "Cw, Ch = image.size \n",
    "O = (0, 0, 0)  \n",
    "\n",
    "for x in tqdm(range(-300, 300)):\n",
    "    x1 = x + 300\n",
    "    for y in range(-300, 300):\n",
    "        y1 = y + 300\n",
    "        color = TraceRay(O, CanvasToViewport(x, y), 0, math.inf, 1)\n",
    "        image.putpixel((x1, y1), tuple(int(c) for c in color) )  \n",
    "image.show() "
   ]
  },
  {
   "cell_type": "code",
   "execution_count": null,
   "metadata": {},
   "outputs": [],
   "source": []
  }
 ],
 "metadata": {
  "kernelspec": {
   "display_name": "Python 3",
   "language": "python",
   "name": "python3"
  },
  "language_info": {
   "codemirror_mode": {
    "name": "ipython",
    "version": 3
   },
   "file_extension": ".py",
   "mimetype": "text/x-python",
   "name": "python",
   "nbconvert_exporter": "python",
   "pygments_lexer": "ipython3",
   "version": "3.7.6"
  }
 },
 "nbformat": 4,
 "nbformat_minor": 4
}

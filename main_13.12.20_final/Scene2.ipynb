{
 "cells": [
  {
   "cell_type": "markdown",
   "metadata": {},
   "source": [
    "# Сцена 2"
   ]
  },
  {
   "cell_type": "markdown",
   "metadata": {},
   "source": [
    "![](Scene2.png)"
   ]
  },
  {
   "cell_type": "markdown",
   "metadata": {},
   "source": [
    "## эффекты: переменная глубина резкости(2 балла)"
   ]
  },
  {
   "cell_type": "code",
   "execution_count": 22,
   "metadata": {},
   "outputs": [],
   "source": [
    "import math\n",
    "import numpy as np\n",
    "from tqdm import tqdm\n",
    "import matplotlib.pyplot as plt\n",
    "from PIL import Image"
   ]
  },
  {
   "cell_type": "markdown",
   "metadata": {},
   "source": [
    "##### Размер окна наблюдателя"
   ]
  },
  {
   "cell_type": "code",
   "execution_count": 23,
   "metadata": {},
   "outputs": [],
   "source": [
    "d = 10\n",
    "Vw = 10\n",
    "Vh = 10"
   ]
  },
  {
   "cell_type": "code",
   "execution_count": 24,
   "metadata": {},
   "outputs": [],
   "source": [
    "#фон\n",
    "background_color = (200, 200, 200)\n",
    "#сферы\n",
    "center = [ (-2.75, 2.75, 6), \n",
    "           (0, 2.75, 9), \n",
    "           (2.75, 2.75, 14),\n",
    "           (-2.75, 0, 7), \n",
    "           (0, 0, 10), \n",
    "           (2.75, 0, 5),\n",
    "           (-2.75, -2.75, 11), \n",
    "           (0, -2.75, 9.5), \n",
    "           (2.75, -2.75, 12) ]\n",
    "clr = (121, 167, 141) #цвет сферы\n",
    "r = 1 #радиус\n",
    "\n",
    "#свет\n",
    "intensity = (0.2, 0.8)\n",
    "light_position = (-2, 8, 0)"
   ]
  },
  {
   "cell_type": "markdown",
   "metadata": {},
   "source": [
    "##### Функции для работы с векторами"
   ]
  },
  {
   "cell_type": "code",
   "execution_count": 25,
   "metadata": {},
   "outputs": [],
   "source": [
    "def to_vec(A, B):\n",
    "    return (B[0]-A[0], B[1]-A[1], B[2]-A[2])\n",
    "\n",
    "#длина вектора\n",
    "def vector_len(V):\n",
    "    return math.sqrt(V[0]*V[0] + V[1]*V[1] + V[2]*V[2])\n",
    "\n",
    "#скалярное произведение вектора\n",
    "def dot(V1, V2):\n",
    "    return V1[0]*V2[0] + V1[1]*V2[1] + V1[2]*V2[2]\n",
    "\n",
    "#изменение направление вектора на противоположное \n",
    "def neg_vector(V):\n",
    "    return (-V[0], -V[1], -V[2])\n",
    "\n",
    "#сложение двух векторов\n",
    "def add_vectors(V1, V2):\n",
    "    return (V1[0]+V2[0], V1[1]+V2[1], V1[2]+V2[2])\n",
    "\n",
    "#разность двух векторов\n",
    "def sub_vectors(V1, V2):\n",
    "    return (V1[0]-V2[0], V1[1]-V2[1], V1[2]-V2[2])\n",
    "\n",
    "#частное вектора и числа \n",
    "def div_vector(V, a):\n",
    "    return (V[0]/a, V[1]/a, V[2]/a)"
   ]
  },
  {
   "cell_type": "code",
   "execution_count": 26,
   "metadata": {},
   "outputs": [],
   "source": [
    "#переход в трехмерные координаты\n",
    "def CanvasToViewport(x, y): \n",
    "    return (x*Vw/Cw, -y*Vh/Ch, d)\n",
    "\n",
    "#вычисление отраженного луча\n",
    "def ReflectRay(R, N):\n",
    "    X = (2*N[0]*dot(N,R)-R[0], 2*N[1]*dot(N,R)-R[1], 2*N[2]*dot(N,R)-R[2])\n",
    "    return X"
   ]
  },
  {
   "cell_type": "markdown",
   "metadata": {},
   "source": [
    "##### Расстояние от наблюдателя до плоскости фокуса"
   ]
  },
  {
   "cell_type": "code",
   "execution_count": 27,
   "metadata": {},
   "outputs": [],
   "source": [
    "def F(O, D):\n",
    "    n = (0, 0, -1) #нормаль к плоскости\n",
    "    Q = (1, 1, 10) #точка на плоскости\n",
    "    \n",
    "    OQ = (Q[0]-O[0], Q[1]-O[1], Q[2]-O[2])\n",
    "    OD = (D[0]-O[0], D[1]-O[1], D[2]-O[2])\n",
    "    \n",
    "    t = dot(n, OQ) / dot(n, OD)\n",
    "    return t"
   ]
  },
  {
   "cell_type": "code",
   "execution_count": 28,
   "metadata": {},
   "outputs": [],
   "source": [
    "def IntersectRaySphere(O, D, i):\n",
    "    C = center[i]\n",
    "    \n",
    "    OC = (O[0] - C[0], O[1] - C[1], O[2] - C[2])\n",
    "\n",
    "    k1 = dot(D, D)\n",
    "    k2 = 2 * dot(OC, D)\n",
    "    k3 = dot(OC, OC) - r*r\n",
    "    \n",
    "    #решение квадратного уравнения\n",
    "    discriminant = k2*k2 - 4*k1*k3\n",
    "    if (discriminant < 0):\n",
    "        return (math.inf, math.inf) \n",
    "\n",
    "    t1 = (-k2 + math.sqrt(discriminant)) / (2*k1)\n",
    "    t2 = (-k2 - math.sqrt(discriminant)) / (2*k1)\n",
    "    return (t1, t2)"
   ]
  },
  {
   "cell_type": "markdown",
   "metadata": {},
   "source": [
    "##### Расчет освещения"
   ]
  },
  {
   "cell_type": "code",
   "execution_count": 29,
   "metadata": {},
   "outputs": [],
   "source": [
    "def ComputeLighting(P, N, V):\n",
    "    i = 0.0\n",
    "    for num in range(0, 2):\n",
    "        if (num == 0):\n",
    "            #общее освещение\n",
    "            i += intensity[0]\n",
    "        else:    \n",
    "            #точечный источник света\n",
    "            L = (light_position[0] - P[0], \n",
    "                 light_position[1] - P[1], \n",
    "                 light_position[2] - P[2])   \n",
    "            n_dot_l = dot(N, L)\n",
    "            if (n_dot_l > 0):\n",
    "                i += intensity[1] * n_dot_l / (vector_len(N)*vector_len(L)) \n",
    "\n",
    "    return i"
   ]
  },
  {
   "cell_type": "markdown",
   "metadata": {},
   "source": [
    "##### Определение бляжайшего объекта"
   ]
  },
  {
   "cell_type": "code",
   "execution_count": 30,
   "metadata": {},
   "outputs": [],
   "source": [
    "def ClosestIntersection(O, D, t_min, t_max):\n",
    "    closest_t = 1000000\n",
    "    closest_sphere = -1\n",
    "    tmp = closest_t\n",
    "    for k in range(0, 9):\n",
    "        \n",
    "        t1 = IntersectRaySphere(O, D, k)[0]\n",
    "        t2 = IntersectRaySphere(O, D, k)[1]\n",
    "        \n",
    "        if (t1 > t_min and t1 < t_max and t1 < closest_t):\n",
    "            tmp = closest_sphere\n",
    "            closest_t = t1\n",
    "            closest_sphere = k\n",
    "        \n",
    "        if (t2 > t_min and t2 < t_max and t2 < closest_t):\n",
    "            tmp = closest_t\n",
    "            closest_t = t2\n",
    "            closest_sphere = k \n",
    "        \n",
    "    return (closest_sphere, closest_t, tmp)"
   ]
  },
  {
   "cell_type": "markdown",
   "metadata": {},
   "source": [
    "##### Трассировка луча"
   ]
  },
  {
   "cell_type": "code",
   "execution_count": 31,
   "metadata": {},
   "outputs": [],
   "source": [
    "def TraceRay(O, D, t_min, t_max, depth): \n",
    "    \n",
    "    closest_sphere = ClosestIntersection(O, D, t_min, t_max)[0]\n",
    "    closest_t = ClosestIntersection(O, D, t_min, t_max)[1]\n",
    "    tmp = ClosestIntersection(O, D, t_min, t_max)[2]\n",
    "    \n",
    "    if (closest_sphere == -1):\n",
    "        return background_color\n",
    "    \n",
    "    P = (O[0] + closest_t*D[0], O[1] + closest_t*D[1], O[2] + closest_t*D[2])      \n",
    "    X = (P[0] - center[closest_sphere][0], \n",
    "         P[1] - center[closest_sphere][1], \n",
    "         P[2] - center[closest_sphere][2] )\n",
    "    lenN = length(X)\n",
    "    N = (X[0] / lenN, X[1] / lenN, X[2] / lenN) \n",
    "    \n",
    "    X = (-D[0], -D[1], -D[2])\n",
    "        \n",
    "    local_color = (clr[0]*ComputeLighting(P, N, X), \n",
    "                   clr[1]*ComputeLighting(P, N, X), \n",
    "                   clr[2]*ComputeLighting(P, N, X) )\n",
    "    return local_color"
   ]
  },
  {
   "cell_type": "code",
   "execution_count": 32,
   "metadata": {},
   "outputs": [
    {
     "name": "stderr",
     "output_type": "stream",
     "text": [
      "  1%|          | 6/600 [00:07<12:58,  1.31s/it]\n"
     ]
    },
    {
     "ename": "KeyboardInterrupt",
     "evalue": "",
     "output_type": "error",
     "traceback": [
      "\u001b[0;31m---------------------------------------------------------------------------\u001b[0m",
      "\u001b[0;31mKeyboardInterrupt\u001b[0m                         Traceback (most recent call last)",
      "\u001b[0;32m<ipython-input-32-b58e7b68ecf3>\u001b[0m in \u001b[0;36m<module>\u001b[0;34m\u001b[0m\n\u001b[1;32m     40\u001b[0m             \u001b[0ma\u001b[0m \u001b[0;34m=\u001b[0m \u001b[0mto_vec\u001b[0m\u001b[0;34m(\u001b[0m\u001b[0mOO\u001b[0m\u001b[0;34m,\u001b[0m \u001b[0mO\u001b[0m\u001b[0;34m[\u001b[0m\u001b[0mk\u001b[0m\u001b[0;34m]\u001b[0m\u001b[0;34m)\u001b[0m \u001b[0;31m#O_Oi\u001b[0m\u001b[0;34m\u001b[0m\u001b[0;34m\u001b[0m\u001b[0m\n\u001b[1;32m     41\u001b[0m             \u001b[0mD\u001b[0m \u001b[0;34m=\u001b[0m \u001b[0msub_vectors\u001b[0m\u001b[0;34m(\u001b[0m\u001b[0mfoc\u001b[0m\u001b[0;34m,\u001b[0m \u001b[0ma\u001b[0m\u001b[0;34m)\u001b[0m\u001b[0;34m\u001b[0m\u001b[0;34m\u001b[0m\u001b[0m\n\u001b[0;32m---> 42\u001b[0;31m             \u001b[0mQ\u001b[0m \u001b[0;34m=\u001b[0m \u001b[0mTraceRay\u001b[0m\u001b[0;34m(\u001b[0m\u001b[0mO\u001b[0m\u001b[0;34m[\u001b[0m\u001b[0mk\u001b[0m\u001b[0;34m]\u001b[0m\u001b[0;34m,\u001b[0m \u001b[0mD\u001b[0m\u001b[0;34m,\u001b[0m \u001b[0;36m0\u001b[0m\u001b[0;34m,\u001b[0m \u001b[0mmath\u001b[0m\u001b[0;34m.\u001b[0m\u001b[0minf\u001b[0m\u001b[0;34m,\u001b[0m \u001b[0;36m1\u001b[0m\u001b[0;34m)\u001b[0m\u001b[0;34m\u001b[0m\u001b[0;34m\u001b[0m\u001b[0m\n\u001b[0m\u001b[1;32m     43\u001b[0m             \u001b[0mcolor\u001b[0m \u001b[0;34m=\u001b[0m \u001b[0;34m(\u001b[0m \u001b[0mQ\u001b[0m\u001b[0;34m[\u001b[0m\u001b[0;36m0\u001b[0m\u001b[0;34m]\u001b[0m\u001b[0;34m/\u001b[0m\u001b[0mnum_of_lights\u001b[0m\u001b[0;34m,\u001b[0m \u001b[0mQ\u001b[0m\u001b[0;34m[\u001b[0m\u001b[0;36m1\u001b[0m\u001b[0;34m]\u001b[0m\u001b[0;34m/\u001b[0m\u001b[0mnum_of_lights\u001b[0m\u001b[0;34m,\u001b[0m \u001b[0mQ\u001b[0m\u001b[0;34m[\u001b[0m\u001b[0;36m2\u001b[0m\u001b[0;34m]\u001b[0m\u001b[0;34m/\u001b[0m\u001b[0mnum_of_lights\u001b[0m\u001b[0;34m)\u001b[0m\u001b[0;34m\u001b[0m\u001b[0;34m\u001b[0m\u001b[0m\n\u001b[1;32m     44\u001b[0m             \u001b[0ms1\u001b[0m \u001b[0;34m+=\u001b[0m \u001b[0mcolor\u001b[0m\u001b[0;34m[\u001b[0m\u001b[0;36m0\u001b[0m\u001b[0;34m]\u001b[0m\u001b[0;34m\u001b[0m\u001b[0;34m\u001b[0m\u001b[0m\n",
      "\u001b[0;32m<ipython-input-31-a487f4c3aafb>\u001b[0m in \u001b[0;36mTraceRay\u001b[0;34m(O, D, t_min, t_max, depth)\u001b[0m\n\u001b[1;32m      3\u001b[0m     \u001b[0mclosest_sphere\u001b[0m \u001b[0;34m=\u001b[0m \u001b[0mClosestIntersection\u001b[0m\u001b[0;34m(\u001b[0m\u001b[0mO\u001b[0m\u001b[0;34m,\u001b[0m \u001b[0mD\u001b[0m\u001b[0;34m,\u001b[0m \u001b[0mt_min\u001b[0m\u001b[0;34m,\u001b[0m \u001b[0mt_max\u001b[0m\u001b[0;34m)\u001b[0m\u001b[0;34m[\u001b[0m\u001b[0;36m0\u001b[0m\u001b[0;34m]\u001b[0m\u001b[0;34m\u001b[0m\u001b[0;34m\u001b[0m\u001b[0m\n\u001b[1;32m      4\u001b[0m     \u001b[0mclosest_t\u001b[0m \u001b[0;34m=\u001b[0m \u001b[0mClosestIntersection\u001b[0m\u001b[0;34m(\u001b[0m\u001b[0mO\u001b[0m\u001b[0;34m,\u001b[0m \u001b[0mD\u001b[0m\u001b[0;34m,\u001b[0m \u001b[0mt_min\u001b[0m\u001b[0;34m,\u001b[0m \u001b[0mt_max\u001b[0m\u001b[0;34m)\u001b[0m\u001b[0;34m[\u001b[0m\u001b[0;36m1\u001b[0m\u001b[0;34m]\u001b[0m\u001b[0;34m\u001b[0m\u001b[0;34m\u001b[0m\u001b[0m\n\u001b[0;32m----> 5\u001b[0;31m     \u001b[0mtmp\u001b[0m \u001b[0;34m=\u001b[0m \u001b[0mClosestIntersection\u001b[0m\u001b[0;34m(\u001b[0m\u001b[0mO\u001b[0m\u001b[0;34m,\u001b[0m \u001b[0mD\u001b[0m\u001b[0;34m,\u001b[0m \u001b[0mt_min\u001b[0m\u001b[0;34m,\u001b[0m \u001b[0mt_max\u001b[0m\u001b[0;34m)\u001b[0m\u001b[0;34m[\u001b[0m\u001b[0;36m2\u001b[0m\u001b[0;34m]\u001b[0m\u001b[0;34m\u001b[0m\u001b[0;34m\u001b[0m\u001b[0m\n\u001b[0m\u001b[1;32m      6\u001b[0m \u001b[0;34m\u001b[0m\u001b[0m\n\u001b[1;32m      7\u001b[0m     \u001b[0;32mif\u001b[0m \u001b[0;34m(\u001b[0m\u001b[0mclosest_sphere\u001b[0m \u001b[0;34m==\u001b[0m \u001b[0;34m-\u001b[0m\u001b[0;36m1\u001b[0m\u001b[0;34m)\u001b[0m\u001b[0;34m:\u001b[0m\u001b[0;34m\u001b[0m\u001b[0;34m\u001b[0m\u001b[0m\n",
      "\u001b[0;32m<ipython-input-30-b0815bd73cd4>\u001b[0m in \u001b[0;36mClosestIntersection\u001b[0;34m(O, D, t_min, t_max)\u001b[0m\n\u001b[1;32m      5\u001b[0m     \u001b[0;32mfor\u001b[0m \u001b[0mk\u001b[0m \u001b[0;32min\u001b[0m \u001b[0mrange\u001b[0m\u001b[0;34m(\u001b[0m\u001b[0;36m0\u001b[0m\u001b[0;34m,\u001b[0m \u001b[0;36m9\u001b[0m\u001b[0;34m)\u001b[0m\u001b[0;34m:\u001b[0m\u001b[0;34m\u001b[0m\u001b[0;34m\u001b[0m\u001b[0m\n\u001b[1;32m      6\u001b[0m \u001b[0;34m\u001b[0m\u001b[0m\n\u001b[0;32m----> 7\u001b[0;31m         \u001b[0mt1\u001b[0m \u001b[0;34m=\u001b[0m \u001b[0mIntersectRaySphere\u001b[0m\u001b[0;34m(\u001b[0m\u001b[0mO\u001b[0m\u001b[0;34m,\u001b[0m \u001b[0mD\u001b[0m\u001b[0;34m,\u001b[0m \u001b[0mk\u001b[0m\u001b[0;34m)\u001b[0m\u001b[0;34m[\u001b[0m\u001b[0;36m0\u001b[0m\u001b[0;34m]\u001b[0m\u001b[0;34m\u001b[0m\u001b[0;34m\u001b[0m\u001b[0m\n\u001b[0m\u001b[1;32m      8\u001b[0m         \u001b[0mt2\u001b[0m \u001b[0;34m=\u001b[0m \u001b[0mIntersectRaySphere\u001b[0m\u001b[0;34m(\u001b[0m\u001b[0mO\u001b[0m\u001b[0;34m,\u001b[0m \u001b[0mD\u001b[0m\u001b[0;34m,\u001b[0m \u001b[0mk\u001b[0m\u001b[0;34m)\u001b[0m\u001b[0;34m[\u001b[0m\u001b[0;36m1\u001b[0m\u001b[0;34m]\u001b[0m\u001b[0;34m\u001b[0m\u001b[0;34m\u001b[0m\u001b[0m\n\u001b[1;32m      9\u001b[0m \u001b[0;34m\u001b[0m\u001b[0m\n",
      "\u001b[0;32m<ipython-input-28-1aeebcf2aa8b>\u001b[0m in \u001b[0;36mIntersectRaySphere\u001b[0;34m(O, D, i)\u001b[0m\n\u001b[1;32m      5\u001b[0m \u001b[0;34m\u001b[0m\u001b[0m\n\u001b[1;32m      6\u001b[0m     \u001b[0mk1\u001b[0m \u001b[0;34m=\u001b[0m \u001b[0mdot\u001b[0m\u001b[0;34m(\u001b[0m\u001b[0mD\u001b[0m\u001b[0;34m,\u001b[0m \u001b[0mD\u001b[0m\u001b[0;34m)\u001b[0m\u001b[0;34m\u001b[0m\u001b[0;34m\u001b[0m\u001b[0m\n\u001b[0;32m----> 7\u001b[0;31m     \u001b[0mk2\u001b[0m \u001b[0;34m=\u001b[0m \u001b[0;36m2\u001b[0m \u001b[0;34m*\u001b[0m \u001b[0mdot\u001b[0m\u001b[0;34m(\u001b[0m\u001b[0mOC\u001b[0m\u001b[0;34m,\u001b[0m \u001b[0mD\u001b[0m\u001b[0;34m)\u001b[0m\u001b[0;34m\u001b[0m\u001b[0;34m\u001b[0m\u001b[0m\n\u001b[0m\u001b[1;32m      8\u001b[0m     \u001b[0mk3\u001b[0m \u001b[0;34m=\u001b[0m \u001b[0mdot\u001b[0m\u001b[0;34m(\u001b[0m\u001b[0mOC\u001b[0m\u001b[0;34m,\u001b[0m \u001b[0mOC\u001b[0m\u001b[0;34m)\u001b[0m \u001b[0;34m-\u001b[0m \u001b[0mr\u001b[0m\u001b[0;34m*\u001b[0m\u001b[0mr\u001b[0m\u001b[0;34m\u001b[0m\u001b[0;34m\u001b[0m\u001b[0m\n\u001b[1;32m      9\u001b[0m \u001b[0;34m\u001b[0m\u001b[0m\n",
      "\u001b[0;32m<ipython-input-25-2ee32bb4c417>\u001b[0m in \u001b[0;36mdot\u001b[0;34m(V1, V2)\u001b[0m\n\u001b[1;32m      8\u001b[0m \u001b[0;31m#скалярное произведение вектора\u001b[0m\u001b[0;34m\u001b[0m\u001b[0;34m\u001b[0m\u001b[0;34m\u001b[0m\u001b[0m\n\u001b[1;32m      9\u001b[0m \u001b[0;32mdef\u001b[0m \u001b[0mdot\u001b[0m\u001b[0;34m(\u001b[0m\u001b[0mV1\u001b[0m\u001b[0;34m,\u001b[0m \u001b[0mV2\u001b[0m\u001b[0;34m)\u001b[0m\u001b[0;34m:\u001b[0m\u001b[0;34m\u001b[0m\u001b[0;34m\u001b[0m\u001b[0m\n\u001b[0;32m---> 10\u001b[0;31m     \u001b[0;32mreturn\u001b[0m \u001b[0mV1\u001b[0m\u001b[0;34m[\u001b[0m\u001b[0;36m0\u001b[0m\u001b[0;34m]\u001b[0m\u001b[0;34m*\u001b[0m\u001b[0mV2\u001b[0m\u001b[0;34m[\u001b[0m\u001b[0;36m0\u001b[0m\u001b[0;34m]\u001b[0m \u001b[0;34m+\u001b[0m \u001b[0mV1\u001b[0m\u001b[0;34m[\u001b[0m\u001b[0;36m1\u001b[0m\u001b[0;34m]\u001b[0m\u001b[0;34m*\u001b[0m\u001b[0mV2\u001b[0m\u001b[0;34m[\u001b[0m\u001b[0;36m1\u001b[0m\u001b[0;34m]\u001b[0m \u001b[0;34m+\u001b[0m \u001b[0mV1\u001b[0m\u001b[0;34m[\u001b[0m\u001b[0;36m2\u001b[0m\u001b[0;34m]\u001b[0m\u001b[0;34m*\u001b[0m\u001b[0mV2\u001b[0m\u001b[0;34m[\u001b[0m\u001b[0;36m2\u001b[0m\u001b[0;34m]\u001b[0m\u001b[0;34m\u001b[0m\u001b[0;34m\u001b[0m\u001b[0m\n\u001b[0m\u001b[1;32m     11\u001b[0m \u001b[0;34m\u001b[0m\u001b[0m\n\u001b[1;32m     12\u001b[0m \u001b[0;31m#изменение направление вектора на противоположное\u001b[0m\u001b[0;34m\u001b[0m\u001b[0;34m\u001b[0m\u001b[0;34m\u001b[0m\u001b[0m\n",
      "\u001b[0;31mKeyboardInterrupt\u001b[0m: "
     ]
    }
   ],
   "source": [
    "image = Image.open(r'canvas.png')  \n",
    "  \n",
    "Cw, Ch = image.size #размер холста\n",
    "\n",
    "OO = (0, 0, 0)\n",
    "O = []\n",
    "x = 0.1\n",
    "y = 0\n",
    "\n",
    "num_of_lights = 16\n",
    "quarter = 4\n",
    "\n",
    "for light in range(0, num_of_lights):\n",
    "    if(light >= 0 and light < quarter):\n",
    "        x += x/quarter\n",
    "        y -= y/quarter\n",
    "    if(light >= quarter and light < quarter*2):\n",
    "        x -= x/quarter\n",
    "        y -= y/quarter\n",
    "    if(light >= quarter*2 and light < quarter*3):\n",
    "        x -= x/quarter\n",
    "        y += y/quarter\n",
    "    if(light >= quarter*3 and light < quarter*4):\n",
    "        x += x/quarter\n",
    "        y += y/quarter\n",
    "    O.append((OO[0]+x, OO[1]+y, OO[2]))  \n",
    "\n",
    "for x in tqdm(range(-300, 300)):\n",
    "    x1 = x + 300\n",
    "    for y in range(-300, 300):\n",
    "        y1 = y + 300\n",
    "        s1 = 0\n",
    "        s2 = 0\n",
    "        s3 = 0\n",
    "\n",
    "        X = CanvasToViewport(x, y)\n",
    "        f = F(OO, X)\n",
    "        foc = (OO[0] + f*X[0], OO[1] + f*X[1], OO[2] + f*X[2])\n",
    "        for k in range (0, num_of_lights):\n",
    "            a = to_vec(OO, O[k]) #O_Oi\n",
    "            D = sub_vectors(foc, a) \n",
    "            Q = TraceRay(O[k], D, 0, math.inf, 1)                    \n",
    "            color = ( Q[0]/num_of_lights, Q[1]/num_of_lights, Q[2]/num_of_lights)\n",
    "            s1 += color[0]\n",
    "            s2 += color[1]\n",
    "            s3 += color[2]\n",
    "        s = (s1, s2, s3)\n",
    "        image.putpixel((x1, y1), tuple(int(c) for c in s) )  \n",
    "image.show()        "
   ]
  }
 ],
 "metadata": {
  "kernelspec": {
   "display_name": "Python 3",
   "language": "python",
   "name": "python3"
  },
  "language_info": {
   "codemirror_mode": {
    "name": "ipython",
    "version": 3
   },
   "file_extension": ".py",
   "mimetype": "text/x-python",
   "name": "python",
   "nbconvert_exporter": "python",
   "pygments_lexer": "ipython3",
   "version": "3.7.6"
  }
 },
 "nbformat": 4,
 "nbformat_minor": 4
}
